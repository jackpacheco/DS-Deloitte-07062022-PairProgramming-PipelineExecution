{
 "cells": [
  {
   "cell_type": "markdown",
   "id": "83d0e696",
   "metadata": {},
   "source": [
    "# Were you able to successfully create and execute the pipeline using the provided walkthrough?"
   ]
  },
  {
   "cell_type": "markdown",
   "id": "1e975f83",
   "metadata": {},
   "source": [
    "###### Please provide your answer here &darr;"
   ]
  },
  {
   "cell_type": "markdown",
   "id": "a586c181",
   "metadata": {},
   "source": [
    "I was unable to finish the pipeline. "
   ]
  },
  {
   "cell_type": "markdown",
   "id": "5cafcc06",
   "metadata": {},
   "source": [
    "# What (if any) blockers did you encounter?"
   ]
  },
  {
   "cell_type": "markdown",
   "id": "c15e1b40",
   "metadata": {},
   "source": [
    "###### Please provide your answer here &darr;"
   ]
  },
  {
   "cell_type": "markdown",
   "id": "b974ab1a",
   "metadata": {},
   "source": [
    "I ran into problems in the resampling training set section. It says that the n_samples isn't working. I tried to work around it by replacing it with removing the n_samples argument. This allowed me to run the code. I then ran into another error when I was running the XGB classifier. When I went to fit the model I got this error cannot import name 'Int64Index' from 'pandas'. I have not been able to troubleshoot this to figure out how to move onto the next steps. On the pyspark lab I also could not use pyspark "
   ]
  },
  {
   "cell_type": "markdown",
   "id": "e0328248",
   "metadata": {},
   "source": [
    "# Do you have any suggestions for improving this material?"
   ]
  },
  {
   "cell_type": "markdown",
   "id": "a702b9db",
   "metadata": {},
   "source": [
    "###### Please provide your answer here &darr;"
   ]
  },
  {
   "cell_type": "markdown",
   "id": "32645543",
   "metadata": {},
   "source": []
  }
 ],
 "metadata": {
  "kernelspec": {
   "display_name": "Python 3 (ipykernel)",
   "language": "python",
   "name": "python3"
  },
  "language_info": {
   "codemirror_mode": {
    "name": "ipython",
    "version": 3
   },
   "file_extension": ".py",
   "mimetype": "text/x-python",
   "name": "python",
   "nbconvert_exporter": "python",
   "pygments_lexer": "ipython3",
   "version": "3.9.12"
  }
 },
 "nbformat": 4,
 "nbformat_minor": 5
}
